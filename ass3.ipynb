{
 "cells": [
  {
   "cell_type": "markdown",
   "metadata": {},
   "source": [
    "<h2><font color=\"red\">Categorical values</font></h2>"
   ]
  },
  {
   "cell_type": "markdown",
   "metadata": {},
   "source": [
    "<h3>Part 1</h3>"
   ]
  },
  {
   "cell_type": "markdown",
   "metadata": {},
   "source": [
    "<h5>What is a categorical value?</h5>"
   ]
  },
  {
   "cell_type": "markdown",
   "metadata": {},
   "source": [
    "A categorical value is a value where we can group the data in categories that doesn't have a lot of entries.So when we sort data using categorical value we are cleaning up the data and we can visualise the link between these data more easily"
   ]
  },
  {
   "cell_type": "code",
   "execution_count": 43,
   "metadata": {},
   "outputs": [],
   "source": [
    "import pandas as pd\n",
    "import numpy as np\n",
    "df=pd.read_csv(\"/Users/cyrilmahfouz/Desktop/SEF/Week1/Day1/Pandas_fcts/kc_house_data.csv\")"
   ]
  },
  {
   "cell_type": "code",
   "execution_count": 34,
   "metadata": {},
   "outputs": [
    {
     "name": "stdout",
     "output_type": "stream",
     "text": [
      "                price\n",
      "waterfront           \n",
      "0            531653.0\n",
      "1           1662524.0\n"
     ]
    }
   ],
   "source": [
    "#ex1\n",
    "#lets start by getting a categorical value\n",
    "#we can see that watefront has 2 values; either 1 for yes and 2 for no\n",
    "\n",
    "price_waterfront=df[['price','waterfront']].groupby('waterfront').mean().round()\n",
    "\n",
    "print(price_waterfront)\n"
   ]
  },
  {
   "cell_type": "markdown",
   "metadata": {},
   "source": [
    "<p>Here we can realize that average price of houses that have a waterfront is more expensive than the houses that doesn't have waterfronts.</p>\n",
    "<p>We did this by grouping the houses into 2 categories. The first one, the group that doesn't contain a waterfall and the second group contains a waterfall.Then we preceeded by getting the average price of these 2 groups and that's how we came up with this conclusion</p>"
   ]
  },
  {
   "cell_type": "code",
   "execution_count": 35,
   "metadata": {},
   "outputs": [
    {
     "name": "stdout",
     "output_type": "stream",
     "text": [
      "            price\n",
      "floors           \n",
      "1.0      442220.0\n",
      "1.5      559045.0\n",
      "2.0      649052.0\n",
      "2.5     1061021.0\n",
      "3.0      582620.0\n",
      "3.5      933938.0\n"
     ]
    }
   ],
   "source": [
    "#ex2\n",
    "#lets see if the floors affect the prices\n",
    "\n",
    "prices_floors=df[['price','floors']].groupby('floors').mean().round()\n",
    "print(prices_floors)"
   ]
  },
  {
   "cell_type": "markdown",
   "metadata": {},
   "source": [
    "This is intriguing. We found that even if the number of floors increases, the average prices of the houses that contains more floors than others isn't increasing accordingly.<br>\n",
    "For example here the higher average price is attributed to the 2.5 floors. And we can see that a house that has 2 floors has an average price higher than the houses that has 3 floors<br>\n",
    "Let's check if the floors affect the average area of the houses\n"
   ]
  },
  {
   "cell_type": "code",
   "execution_count": 36,
   "metadata": {},
   "outputs": [
    {
     "name": "stdout",
     "output_type": "stream",
     "text": [
      "        sqft_living  sqft_lot  avrg_area\n",
      "floors                                  \n",
      "1.0          1732.0   14568.0    16300.0\n",
      "1.5          1908.0   16966.0    18874.0\n",
      "2.0          2571.0   16134.0    18705.0\n",
      "2.5          3145.0   17347.0    20492.0\n"
     ]
    }
   ],
   "source": [
    "#ex3\n",
    "#lets check the corrolation between the floors and the area\n",
    "\n",
    "area_floors=df[['floors','sqft_living','sqft_lot']].groupby('floors').mean().round().head(4)\n",
    "area_floors['avrg_area']=(area_floors['sqft_living']+area_floors['sqft_lot'])\n",
    "print(area_floors)"
   ]
  },
  {
   "cell_type": "markdown",
   "metadata": {},
   "source": [
    "Now we can relate the data. We can see that the average area is increasing when the number of floors is increasing which is logical.<br>\n",
    "Let us check if the grade is related to the area of the house"
   ]
  },
  {
   "cell_type": "code",
   "execution_count": 40,
   "metadata": {},
   "outputs": [
    {
     "name": "stdout",
     "output_type": "stream",
     "text": [
      "       sqft_living  sqft_lot  avrg_area\n",
      "grade                                  \n",
      "12          5472.0   54521.0    59993.0\n",
      "11          4395.0   38373.0    42768.0\n",
      "13          7483.0   28205.0    35688.0\n",
      "10          3520.0   28191.0    31711.0\n"
     ]
    }
   ],
   "source": [
    "#ex4\n",
    "grade_area=df[['grade','sqft_living','sqft_lot']].groupby('grade').mean().round()\n",
    "grade_area['avrg_area']=(grade_area['sqft_living']+grade_area['sqft_lot'])\n",
    "\n",
    "print(grade_area.sort_values(by='avrg_area',ascending=False).head(4))"
   ]
  },
  {
   "cell_type": "markdown",
   "metadata": {},
   "source": [
    "We can see that the top 4 best graded houses,from 10 to 13 have an average area that is bigger than the rest of the houses with lower grade, under 10"
   ]
  },
  {
   "cell_type": "markdown",
   "metadata": {},
   "source": [
    "<h3>Part 2</h3>"
   ]
  },
  {
   "cell_type": "markdown",
   "metadata": {},
   "source": [
    "<h5>Introducing the missing values to a subset</h5>"
   ]
  },
  {
   "cell_type": "code",
   "execution_count": 49,
   "metadata": {},
   "outputs": [
    {
     "name": "stdout",
     "output_type": "stream",
     "text": [
      "<class 'pandas.core.frame.DataFrame'>\n",
      "RangeIndex: 21613 entries, 0 to 21612\n",
      "Data columns (total 4 columns):\n",
      " #   Column        Non-Null Count  Dtype  \n",
      "---  ------        --------------  -----  \n",
      " 0   price         19453 non-null  float64\n",
      " 1   condition     19483 non-null  float64\n",
      " 2   yr_built      19460 non-null  float64\n",
      " 3   yr_renovated  19495 non-null  float64\n",
      "dtypes: float64(4)\n",
      "memory usage: 675.5 KB\n"
     ]
    }
   ],
   "source": [
    "missing_percentage = 0.1  # 10% missing values\n",
    "\n",
    "#subset that we want to introduce to it missing values\n",
    "mis_sub=df[['price','condition','yr_built','yr_renovated']].copy()\n",
    "\n",
    "mask = np.random.rand(*mis_sub.shape) < missing_percentage\n",
    "mis_sub[mask] = np.nan\n",
    "\n",
    "mis_sub.info() \n"
   ]
  },
  {
   "cell_type": "markdown",
   "metadata": {},
   "source": [
    "<h5>A. Deleting the rows with missing values</h5>"
   ]
  },
  {
   "cell_type": "code",
   "execution_count": 55,
   "metadata": {},
   "outputs": [
    {
     "name": "stdout",
     "output_type": "stream",
     "text": [
      "14253\n"
     ]
    },
    {
     "data": {
      "text/plain": [
       "17547"
      ]
     },
     "execution_count": 55,
     "metadata": {},
     "output_type": "execute_result"
    }
   ],
   "source": [
    "#first lets get the len of the rows\n",
    "len(mis_sub) #21613\n",
    "\n",
    "#now tp delete the empty rows we use .dropna() \n",
    "cleaned_sub=mis_sub.dropna()\n",
    "print(len(cleaned_sub))\n",
    "\n",
    "#lets specify the column that we want to drop if the value if na\n",
    "cleaned_sub = mis_sub.dropna(subset=['condition', 'price'])\n",
    "len(cleaned_sub)"
   ]
  },
  {
   "cell_type": "markdown",
   "metadata": {},
   "source": [
    "<h5>B. Filling the missing values</h5>"
   ]
  },
  {
   "cell_type": "markdown",
   "metadata": {},
   "source": [
    "Let's get the median of the data set "
   ]
  },
  {
   "cell_type": "code",
   "execution_count": 56,
   "metadata": {},
   "outputs": [
    {
     "data": {
      "text/plain": [
       "price           450000.0\n",
       "condition            3.0\n",
       "yr_built          1975.0\n",
       "yr_renovated         0.0\n",
       "dtype: float64"
      ]
     },
     "execution_count": 56,
     "metadata": {},
     "output_type": "execute_result"
    }
   ],
   "source": [
    "mis_sub.median()"
   ]
  },
  {
   "cell_type": "code",
   "execution_count": 58,
   "metadata": {},
   "outputs": [
    {
     "name": "stdout",
     "output_type": "stream",
     "text": [
      "          price  condition  yr_built  yr_renovated\n",
      "0      221900.0        3.0    1955.0           0.0\n",
      "1      538000.0        3.0    1975.0        1991.0\n",
      "2      180000.0        3.0    1933.0           0.0\n",
      "3      604000.0        5.0    1965.0           0.0\n",
      "4      510000.0        3.0    1975.0           0.0\n",
      "...         ...        ...       ...           ...\n",
      "21608  450000.0        3.0    2009.0           0.0\n",
      "21609  400000.0        3.0    2014.0           0.0\n",
      "21610  402101.0        3.0    2009.0           0.0\n",
      "21611  400000.0        3.0    2004.0           0.0\n",
      "21612  325000.0        3.0    2008.0           0.0\n",
      "\n",
      "[21613 rows x 4 columns]\n"
     ]
    }
   ],
   "source": [
    "# Replace missing values with the median of each column\n",
    "sub_filled_with_median = mis_sub.fillna(mis_sub.median())\n",
    "print(sub_filled_with_median)"
   ]
  },
  {
   "cell_type": "markdown",
   "metadata": {},
   "source": [
    "<h5><font color='red'>Conclusion</font></h5>"
   ]
  },
  {
   "cell_type": "markdown",
   "metadata": {},
   "source": [
    "So when we are dealing with dataframes, locate the categorical value for an easier analyze. Regroup the data with the categorical values to find links between them and understand the data more.<br>\n",
    "<br>\n",
    "Now, when we are dealing with faulting values or missing ones, we have to options.<br>\n",
    "We can locate the rows that contains missing data delete the row and continue the analyze<br>\n",
    "We can also locate the missing value, get the median of all the dataframe an fill in the missing values with the median of the dataframe"
   ]
  }
 ],
 "metadata": {
  "kernelspec": {
   "display_name": "sefactory_env",
   "language": "python",
   "name": "python3"
  },
  "language_info": {
   "codemirror_mode": {
    "name": "ipython",
    "version": 3
   },
   "file_extension": ".py",
   "mimetype": "text/x-python",
   "name": "python",
   "nbconvert_exporter": "python",
   "pygments_lexer": "ipython3",
   "version": "3.10.9"
  },
  "orig_nbformat": 4
 },
 "nbformat": 4,
 "nbformat_minor": 2
}
