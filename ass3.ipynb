{
 "cells": [
  {
   "cell_type": "markdown",
   "metadata": {},
   "source": [
    "<h2><font color=\"red\">Categorical values</font></h2>"
   ]
  },
  {
   "cell_type": "markdown",
   "metadata": {},
   "source": [
    "<h3>Part 1</h3>"
   ]
  },
  {
   "cell_type": "markdown",
   "metadata": {},
   "source": [
    "<h5>What is a categorical value?</h5>"
   ]
  },
  {
   "cell_type": "markdown",
   "metadata": {},
   "source": [
    "A categorical value is a value where we can group the data in categories that doesn't have a lot of entries.So when we sort data using categorical value we are cleaning up the data and we can visualise the link between these data more easily"
   ]
  },
  {
   "cell_type": "code",
   "execution_count": 33,
   "metadata": {},
   "outputs": [],
   "source": [
    "import pandas as pd\n",
    "df=pd.read_csv(\"/Users/cyrilmahfouz/Desktop/SEF/Week1/Day1/Pandas_fcts/kc_house_data.csv\")"
   ]
  },
  {
   "cell_type": "code",
   "execution_count": 34,
   "metadata": {},
   "outputs": [
    {
     "name": "stdout",
     "output_type": "stream",
     "text": [
      "                price\n",
      "waterfront           \n",
      "0            531653.0\n",
      "1           1662524.0\n"
     ]
    }
   ],
   "source": [
    "#ex1\n",
    "#lets start by getting a categorical value\n",
    "#we can see that watefront has 2 values; either 1 for yes and 2 for no\n",
    "\n",
    "price_waterfront=df[['price','waterfront']].groupby('waterfront').mean().round()\n",
    "\n",
    "print(price_waterfront)\n"
   ]
  },
  {
   "cell_type": "markdown",
   "metadata": {},
   "source": [
    "<p>Here we can realize that average price of houses that have a waterfront is more expensive than the houses that doesn't have waterfronts.</p>\n",
    "<p>We did this by grouping the houses into 2 categories. The first one, the group that doesn't contain a waterfall and the second group contains a waterfall.Then we preceeded by getting the average price of these 2 groups and that's how we came up with this conclusion</p>"
   ]
  },
  {
   "cell_type": "code",
   "execution_count": 35,
   "metadata": {},
   "outputs": [
    {
     "name": "stdout",
     "output_type": "stream",
     "text": [
      "            price\n",
      "floors           \n",
      "1.0      442220.0\n",
      "1.5      559045.0\n",
      "2.0      649052.0\n",
      "2.5     1061021.0\n",
      "3.0      582620.0\n",
      "3.5      933938.0\n"
     ]
    }
   ],
   "source": [
    "#ex2\n",
    "#lets see if the floors affect the prices\n",
    "\n",
    "prices_floors=df[['price','floors']].groupby('floors').mean().round()\n",
    "print(prices_floors)"
   ]
  },
  {
   "cell_type": "markdown",
   "metadata": {},
   "source": [
    "This is intriguing. We found that even if the number of floors increases, the average prices of the houses that contains more floors than others isn't increasing accordingly.<br>\n",
    "For example here the higher average price is attributed to the 2.5 floors. And we can see that a house that has 2 floors has an average price higher than the houses that has 3 floors<br>\n",
    "Let's check if the floors affect the average area of the houses\n"
   ]
  },
  {
   "cell_type": "code",
   "execution_count": 36,
   "metadata": {},
   "outputs": [
    {
     "name": "stdout",
     "output_type": "stream",
     "text": [
      "        sqft_living  sqft_lot  avrg_area\n",
      "floors                                  \n",
      "1.0          1732.0   14568.0    16300.0\n",
      "1.5          1908.0   16966.0    18874.0\n",
      "2.0          2571.0   16134.0    18705.0\n",
      "2.5          3145.0   17347.0    20492.0\n"
     ]
    }
   ],
   "source": [
    "#ex3\n",
    "#lets check the corrolation between the floors and the area\n",
    "\n",
    "area_floors=df[['floors','sqft_living','sqft_lot']].groupby('floors').mean().round().head(4)\n",
    "area_floors['avrg_area']=(area_floors['sqft_living']+area_floors['sqft_lot'])\n",
    "print(area_floors)"
   ]
  },
  {
   "cell_type": "markdown",
   "metadata": {},
   "source": [
    "Now we can relate the data. We can see that the average area is increasing when the number of floors is increasing which is logical.<br>\n",
    "Let us check if the grade is related to the area of the house"
   ]
  },
  {
   "cell_type": "code",
   "execution_count": 38,
   "metadata": {},
   "outputs": [
    {
     "name": "stdout",
     "output_type": "stream",
     "text": [
      "       sqft_living  sqft_lot  avrg_area\n",
      "grade                                  \n",
      "12          5472.0   54521.0    59993.0\n",
      "11          4395.0   38373.0    42768.0\n",
      "13          7483.0   28205.0    35688.0\n",
      "10          3520.0   28191.0    31711.0\n",
      "3            597.0   26953.0    27550.0\n",
      "5            983.0   24020.0    25003.0\n",
      "9           2868.0   20639.0    23507.0\n",
      "4            660.0   22101.0    22761.0\n",
      "1            290.0   20875.0    21165.0\n",
      "8           2185.0   13510.0    15695.0\n",
      "6           1192.0   12647.0    13839.0\n",
      "7           1689.0   11766.0    13455.0\n"
     ]
    }
   ],
   "source": [
    "#ex4\n",
    "grade_area=df[['grade','sqft_living','sqft_lot']].groupby('grade').mean().round()\n",
    "grade_area['avrg_area']=(grade_area['sqft_living']+grade_area['sqft_lot'])\n",
    "\n",
    "print(grade_area.sort_values(by='avrg_area',ascending=False))"
   ]
  }
 ],
 "metadata": {
  "kernelspec": {
   "display_name": "sefactory_env",
   "language": "python",
   "name": "python3"
  },
  "language_info": {
   "codemirror_mode": {
    "name": "ipython",
    "version": 3
   },
   "file_extension": ".py",
   "mimetype": "text/x-python",
   "name": "python",
   "nbconvert_exporter": "python",
   "pygments_lexer": "ipython3",
   "version": "3.10.9"
  },
  "orig_nbformat": 4
 },
 "nbformat": 4,
 "nbformat_minor": 2
}
